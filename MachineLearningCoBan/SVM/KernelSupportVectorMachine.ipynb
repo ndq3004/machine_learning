{
  "nbformat": 4,
  "nbformat_minor": 0,
  "metadata": {
    "colab": {
      "name": "KernelSupportVectorMachine.ipynb",
      "provenance": [],
      "authorship_tag": "ABX9TyOnoXFXkU5kkr3c6SYqLiyE",
      "include_colab_link": true
    },
    "kernelspec": {
      "name": "python3",
      "display_name": "Python 3"
    }
  },
  "cells": [
    {
      "cell_type": "markdown",
      "metadata": {
        "id": "view-in-github",
        "colab_type": "text"
      },
      "source": [
        "<a href=\"https://colab.research.google.com/github/ndq3004/machine_learning/blob/master/MachineLearningCoBan/SVM/KernelSupportVectorMachine.ipynb\" target=\"_parent\"><img src=\"https://colab.research.google.com/assets/colab-badge.svg\" alt=\"Open In Colab\"/></a>"
      ]
    },
    {
      "cell_type": "code",
      "metadata": {
        "id": "HU0cDR8TRxgS",
        "colab_type": "code",
        "colab": {
          "base_uri": "https://localhost:8080/",
          "height": 360
        },
        "outputId": "f36df5db-ee1a-4b93-de76-a4fc7f5cb3a3"
      },
      "source": [
        "from __future__ import print_function\n",
        "import numpy as np\n",
        "from sklearn import svm\n",
        "from sklearn.datasets import fetch_openml\n",
        "mnist = fetch_openml('mnist_784', version=1, cache=True)"
      ],
      "execution_count": 16,
      "outputs": [
        {
          "output_type": "error",
          "ename": "ValueError",
          "evalue": "ignored",
          "traceback": [
            "\u001b[0;31m---------------------------------------------------------------------------\u001b[0m",
            "\u001b[0;31mValueError\u001b[0m                                Traceback (most recent call last)",
            "\u001b[0;32m<ipython-input-16-cbba33d409b7>\u001b[0m in \u001b[0;36m<module>\u001b[0;34m()\u001b[0m\n\u001b[1;32m      3\u001b[0m \u001b[0;32mfrom\u001b[0m \u001b[0msklearn\u001b[0m \u001b[0;32mimport\u001b[0m \u001b[0msvm\u001b[0m\u001b[0;34m\u001b[0m\u001b[0;34m\u001b[0m\u001b[0m\n\u001b[1;32m      4\u001b[0m \u001b[0;32mfrom\u001b[0m \u001b[0msklearn\u001b[0m\u001b[0;34m.\u001b[0m\u001b[0mdatasets\u001b[0m \u001b[0;32mimport\u001b[0m \u001b[0mfetch_openml\u001b[0m\u001b[0;34m\u001b[0m\u001b[0;34m\u001b[0m\u001b[0m\n\u001b[0;32m----> 5\u001b[0;31m \u001b[0mmnist\u001b[0m \u001b[0;34m=\u001b[0m \u001b[0mfetch_openml\u001b[0m\u001b[0;34m(\u001b[0m\u001b[0;34m'mnist_784'\u001b[0m\u001b[0;34m,\u001b[0m \u001b[0mversion\u001b[0m\u001b[0;34m=\u001b[0m\u001b[0;36m.4\u001b[0m\u001b[0;34m,\u001b[0m \u001b[0mcache\u001b[0m\u001b[0;34m=\u001b[0m\u001b[0;32mTrue\u001b[0m\u001b[0;34m)\u001b[0m\u001b[0;34m\u001b[0m\u001b[0;34m\u001b[0m\u001b[0m\n\u001b[0m",
            "\u001b[0;32m/usr/local/lib/python3.6/dist-packages/sklearn/datasets/_openml.py\u001b[0m in \u001b[0;36mfetch_openml\u001b[0;34m(name, version, data_id, data_home, target_column, cache, return_X_y, as_frame)\u001b[0m\n\u001b[1;32m    637\u001b[0m                 \u001b[0;34m\"specify a numeric data_id or a name, not \"\u001b[0m\u001b[0;34m\u001b[0m\u001b[0;34m\u001b[0m\u001b[0m\n\u001b[1;32m    638\u001b[0m                 \"both.\".format(data_id, name))\n\u001b[0;32m--> 639\u001b[0;31m         \u001b[0mdata_info\u001b[0m \u001b[0;34m=\u001b[0m \u001b[0m_get_data_info_by_name\u001b[0m\u001b[0;34m(\u001b[0m\u001b[0mname\u001b[0m\u001b[0;34m,\u001b[0m \u001b[0mversion\u001b[0m\u001b[0;34m,\u001b[0m \u001b[0mdata_home\u001b[0m\u001b[0;34m)\u001b[0m\u001b[0;34m\u001b[0m\u001b[0;34m\u001b[0m\u001b[0m\n\u001b[0m\u001b[1;32m    640\u001b[0m         \u001b[0mdata_id\u001b[0m \u001b[0;34m=\u001b[0m \u001b[0mdata_info\u001b[0m\u001b[0;34m[\u001b[0m\u001b[0;34m'did'\u001b[0m\u001b[0;34m]\u001b[0m\u001b[0;34m\u001b[0m\u001b[0;34m\u001b[0m\u001b[0m\n\u001b[1;32m    641\u001b[0m     \u001b[0;32melif\u001b[0m \u001b[0mdata_id\u001b[0m \u001b[0;32mis\u001b[0m \u001b[0;32mnot\u001b[0m \u001b[0;32mNone\u001b[0m\u001b[0;34m:\u001b[0m\u001b[0;34m\u001b[0m\u001b[0;34m\u001b[0m\u001b[0m\n",
            "\u001b[0;32m/usr/local/lib/python3.6/dist-packages/sklearn/datasets/_openml.py\u001b[0m in \u001b[0;36m_get_data_info_by_name\u001b[0;34m(name, version, data_home)\u001b[0m\n\u001b[1;32m    386\u001b[0m                                                                    version)\n\u001b[1;32m    387\u001b[0m         json_data = _get_json_content_from_openml_api(url, error_msg, True,\n\u001b[0;32m--> 388\u001b[0;31m                                                       data_home)\n\u001b[0m\u001b[1;32m    389\u001b[0m \u001b[0;34m\u001b[0m\u001b[0m\n\u001b[1;32m    390\u001b[0m     \u001b[0;32mreturn\u001b[0m \u001b[0mjson_data\u001b[0m\u001b[0;34m[\u001b[0m\u001b[0;34m'data'\u001b[0m\u001b[0;34m]\u001b[0m\u001b[0;34m[\u001b[0m\u001b[0;34m'dataset'\u001b[0m\u001b[0;34m]\u001b[0m\u001b[0;34m[\u001b[0m\u001b[0;36m0\u001b[0m\u001b[0;34m]\u001b[0m\u001b[0;34m\u001b[0m\u001b[0;34m\u001b[0m\u001b[0m\n",
            "\u001b[0;32m/usr/local/lib/python3.6/dist-packages/sklearn/datasets/_openml.py\u001b[0m in \u001b[0;36m_get_json_content_from_openml_api\u001b[0;34m(url, error_message, raise_if_error, data_home)\u001b[0m\n\u001b[1;32m    166\u001b[0m     \u001b[0;31m# 412 error, not in except for nicer traceback\u001b[0m\u001b[0;34m\u001b[0m\u001b[0;34m\u001b[0m\u001b[0;34m\u001b[0m\u001b[0m\n\u001b[1;32m    167\u001b[0m     \u001b[0;32mif\u001b[0m \u001b[0mraise_if_error\u001b[0m\u001b[0;34m:\u001b[0m\u001b[0;34m\u001b[0m\u001b[0;34m\u001b[0m\u001b[0m\n\u001b[0;32m--> 168\u001b[0;31m         \u001b[0;32mraise\u001b[0m \u001b[0mValueError\u001b[0m\u001b[0;34m(\u001b[0m\u001b[0merror_message\u001b[0m\u001b[0;34m)\u001b[0m\u001b[0;34m\u001b[0m\u001b[0;34m\u001b[0m\u001b[0m\n\u001b[0m\u001b[1;32m    169\u001b[0m     \u001b[0;32mreturn\u001b[0m \u001b[0;32mNone\u001b[0m\u001b[0;34m\u001b[0m\u001b[0;34m\u001b[0m\u001b[0m\n\u001b[1;32m    170\u001b[0m \u001b[0;34m\u001b[0m\u001b[0m\n",
            "\u001b[0;31mValueError\u001b[0m: Dataset mnist_784 with version 0.4 not found."
          ]
        }
      ]
    },
    {
      "cell_type": "markdown",
      "metadata": {
        "id": "nnrhSEvw_aty",
        "colab_type": "text"
      },
      "source": [
        "Thử các kernel với dữ liệu giả"
      ]
    },
    {
      "cell_type": "code",
      "metadata": {
        "id": "goNTSByh_ZdV",
        "colab_type": "code",
        "colab": {
          "base_uri": "https://localhost:8080/",
          "height": 776
        },
        "outputId": "26836e41-4d22-43e2-dbed-4053f46f2d6f"
      },
      "source": [
        "import matplotlib.pyplot as plt\n",
        "import matplotlib.backends.backend_pdf as PdfPages\n",
        "X = np.array([[0, 0], [1, 1], [1, 0], [0, 1]])\n",
        "y = np.array([0, 0, 1, 1])\n",
        "fignum = 1\n",
        "#fit the model\n",
        "for kernel in ('sigmoid', 'poly', 'rbf'):\n",
        "  clf = svm.SVC(kernel=kernel, gamma=.4, coef0=0)\n",
        "  clf.fit(X, y)\n",
        "\n",
        "  fig, ax = plt.subplots()\n",
        "  plt.figure(fignum, figsize=(4, 3))\n",
        "  plt.clf()\n",
        "\n",
        "  plt.scatter(clf.support_vectors_[:, 0], clf.support_vectors_[:, 1], s=80, facecolors=\"None\")\n",
        "  plt.plot(X[:2, 0], X[:2, 1], 'ro', markersize = 8)\n",
        "  plt.plot(X[2:, 0], X[2:, 1], 'bs', markersize = 8)\n",
        "\n",
        "  plt.axis('tight')\n",
        "  x_min = -2\n",
        "  x_max = 3\n",
        "  y_min = -2\n",
        "  y_max = 3\n",
        "\n",
        "  XX, YY = np.mgrid[x_min:x_max:200j, y_min:y_max:200j]\n",
        "  Z = clf.decision_function(np.c_[XX.ravel(), YY.ravel()])\n",
        "\n",
        "  # Put the result into a color plot\n",
        "  Z = Z.reshape(XX.shape)\n",
        "  plt.figure(fignum, figsize=(4, 3))\n",
        "  CS = plt.contourf(XX, YY, np.sign(Z), 200, cmap='jet', alpha = .2)\n",
        "  plt.contour(XX, YY, Z, colors=['k', 'k', 'k'], linestyles=['--', '-', '--'],\n",
        "              levels=[-.5, 0, .5])\n",
        "  plt.title(kernel, fontsize = 15)\n",
        "  plt.xlim(x_min, x_max)\n",
        "  plt.ylim(y_min, y_max)\n",
        "\n",
        "  plt.xticks(())\n",
        "  plt.yticks(())\n",
        "  fignum = fignum + 1\n",
        "  # with PdfPages(kernel + '2.pdf') as pdf:\n",
        "  #   fig, ax = plt.subplots()\n",
        "  #   plt.figure(fignum, figsize=(4, 3))\n",
        "    # plt.clf()\n",
        "\n",
        "    # plt.scatter(clf.support_vectors_[:, 0], clf.support_vectors_[:, 1], s=80, facecolors=\"None\")\n",
        "    # plt.plot(X[:2, 0], X[:2, 1], 'ro', markersize = 8)\n",
        "    # plt.plot(X[2:, 0], X[2:, 1], 'bs', markersize = 8)\n",
        "\n",
        "    # plt.axis('tight')\n",
        "    # x_min = -2\n",
        "    # x_max = 3\n",
        "    # y_min = -2\n",
        "    # y_max = 3\n",
        "\n",
        "    # XX, YY = np.mgrid[x_min:x_max:200j, y_min:y_max:200j]\n",
        "    # Z = clf.decision_function(np.c_[XX.ravel(), YY.ravel()])\n",
        "\n",
        "    # # Put the result into a color plot\n",
        "    # Z = Z.reshape(XX.shape)\n",
        "    # plt.figure(fignum, figsize=(4, 3))\n",
        "    # CS = plt.contourf(XX, YY, np.sign(Z), 200, cmap='jet', alpha = .2)\n",
        "    # plt.contour(XX, YY, Z, colors=['k', 'k', 'k'], linestyles=['--', '-', '--'],\n",
        "    #             levels=[-.5, 0, .5])\n",
        "    # plt.title(kernel, fontsize = 15)\n",
        "    # plt.xlim(x_min, x_max)\n",
        "    # plt.ylim(y_min, y_max)\n",
        "\n",
        "    # plt.xticks(())\n",
        "    # plt.yticks(())\n",
        "    # fignum = fignum + 1\n",
        "    # pdf.savefig()\n",
        "    # plt.show()"
      ],
      "execution_count": 17,
      "outputs": [
        {
          "output_type": "display_data",
          "data": {
            "image/png": "[encoded data removed]",
            "text/plain": [
              "<Figure size 432x288 with 1 Axes>"
            ]
          },
          "metadata": {
            "tags": []
          }
        },
        {
          "output_type": "display_data",
          "data": {
            "image/png": "[encoded data removed]",
            "text/plain": [
              "<Figure size 432x288 with 1 Axes>"
            ]
          },
          "metadata": {
            "tags": []
          }
        },
        {
          "output_type": "display_data",
          "data": {
            "image/png": "[encoded data removed]",
            "text/plain": [
              "<Figure size 432x288 with 1 Axes>"
            ]
          },
          "metadata": {
            "tags": []
          }
        }
      ]
    },
    {
      "cell_type": "code",
      "metadata": {
        "id": "U1ZHgN4cTEKR",
        "colab_type": "code",
        "outputId": "493216de-6b53-44b2-e104-deb44634e2cd",
        "colab": {
          "base_uri": "https://localhost:8080/",
          "height": 34
        }
      },
      "source": [
        "X_all = mnist.data/255.\n",
        "y_all = mnist.target\n",
        "digits = ['0', 1, 2, 3]\n",
        "ids = []\n",
        "for d in digits:\n",
        "  ids.append(np.where(y_all == str(d))[0])\n",
        "  # print(np.where(y_all == '1'))\n",
        "\n",
        "selected_ids = np.concatenate(ids, axis = 0)\n",
        "X = X_all[selected_ids]\n",
        "y = y_all[selected_ids]\n",
        "print('NUmber of sample: ', X.shape[0])"
      ],
      "execution_count": 2,
      "outputs": [
        {
          "output_type": "stream",
          "text": [
            "NUmber of sample:  28911\n"
          ],
          "name": "stdout"
        }
      ]
    },
    {
      "cell_type": "code",
      "metadata": {
        "id": "l9oWQG4AUHZP",
        "colab_type": "code",
        "outputId": "369f3fab-da53-40cf-8157-d0d695d63c1d",
        "colab": {
          "base_uri": "https://localhost:8080/",
          "height": 34
        }
      },
      "source": [
        "from sklearn.model_selection import train_test_split\n",
        "from sklearn.metrics import accuracy_score\n",
        "X_train, X_test, y_train, y_test = train_test_split(X, y, test_size=24000)\n",
        "model = svm.SVC(kernel='rbf', gamma=.02, coef0=.1, verbose=True)\n",
        "model.fit(X_train, y_train)\n",
        "y_pred = model.predict(X_test)\n",
        "print('Acurracy: ', (100*accuracy_score(y_test, y_pred)))"
      ],
      "execution_count": 3,
      "outputs": [
        {
          "output_type": "stream",
          "text": [
            "[LibSVM]Acurracy:  98.82083333333334\n"
          ],
          "name": "stdout"
        }
      ]
    },
    {
      "cell_type": "code",
      "metadata": {
        "id": "9iGqXP1e-jOi",
        "colab_type": "code",
        "colab": {
          "base_uri": "https://localhost:8080/",
          "height": 85
        },
        "outputId": "598f1f9a-4f30-4a29-a96a-09b6869d3bda"
      },
      "source": [
        ""
      ],
      "execution_count": 5,
      "outputs": [
        {
          "output_type": "stream",
          "text": [
            "SVC(C=1.0, break_ties=False, cache_size=200, class_weight=None, coef0=0.1,\n",
            "    decision_function_shape='ovr', degree=3, gamma=0.02, kernel='rbf',\n",
            "    max_iter=-1, probability=False, random_state=None, shrinking=True,\n",
            "    tol=0.001, verbose=True)\n"
          ],
          "name": "stdout"
        }
      ]
    }
  ]
}