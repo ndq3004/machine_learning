{
  "nbformat": 4,
  "nbformat_minor": 0,
  "metadata": {
    "colab": {
      "name": "SVM.ipynb",
      "provenance": [],
      "collapsed_sections": [],
      "authorship_tag": "ABX9TyMw0lx27Hz4kCbsVIquYwnR",
      "include_colab_link": true
    },
    "kernelspec": {
      "name": "python3",
      "display_name": "Python 3"
    }
  },
  "cells": [
    {
      "cell_type": "markdown",
      "metadata": {
        "id": "view-in-github",
        "colab_type": "text"
      },
      "source": [
        "<a href=\"https://colab.research.google.com/github/ndq3004/machine_learning/blob/master/MachineLearningCoBan/SVM/SVM.ipynb\" target=\"_parent\"><img src=\"https://colab.research.google.com/assets/colab-badge.svg\" alt=\"Open In Colab\"/></a>"
      ]
    },
    {
      "cell_type": "code",
      "metadata": {
        "id": "DdgbHvHoPMSy",
        "colab_type": "code",
        "colab": {}
      },
      "source": [
        "from __future__ import print_function\n",
        "import numpy as np\n",
        "np.random.seed(22)\n",
        "\n",
        "#simulated samples\n",
        "means = [[2, 2],[4, 2]]\n",
        "cov = [[.3, .2], [.2, .3]]\n",
        "N = 10\n",
        "X0 = np.random.multivariate_normal(means[0], cov, N)\n",
        "X1 = np.random.multivariate_normal(means[1], cov, N)\n",
        "\n",
        "X = np.concatenate((X0, X1), axis = 0)\n",
        "y = np.concatenate((np.ones(N), -np.ones(N)), axis = 0)\n",
        "\n"
      ],
      "execution_count": 0,
      "outputs": []
    },
    {
      "cell_type": "code",
      "metadata": {
        "id": "nCA1wDwbTjY0",
        "colab_type": "code",
        "outputId": "39f20e6b-88b3-449b-d3b5-1443e94e42be",
        "colab": {
          "base_uri": "https://localhost:8080/",
          "height": 68
        }
      },
      "source": [
        "#solveing the dual problem (variable lamda)\n",
        "from cvxopt import matrix, solvers\n",
        "V = np.concatenate((X0, -X1), axis = 0)\n",
        "\n",
        "Q = matrix(V.dot(V.T))\n",
        "p = matrix(-np.ones((2*N, 1)))\n",
        "\n",
        "#build A, b, G, h\n",
        "G = matrix(-np.eye(2*N))\n",
        "h = matrix(np.zeros((2*N, 1)))\n",
        "A = matrix(y.reshape(1, -1))\n",
        "b = matrix(np.zeros((1, 1)))\n",
        "\n",
        "solvers.options['show_progress'] = False\n",
        "sol = solvers.qp(Q, p, G, h, A, b)\n",
        "l = np.array(sol['x']) #solution lamda\n",
        "\n",
        "#calulate w and b\n",
        "w = V.T.dot(l)\n",
        "S = np.where(l > 1e-8)[0]\n",
        "b = np.mean(y[S].reshape(-1, 1) - X[S,:].dot(w))\n",
        "print('Number of SVs: ', S.size)\n",
        "print('w = ', w.T)\n",
        "print('b = ', b)"
      ],
      "execution_count": 0,
      "outputs": [
        {
          "output_type": "stream",
          "text": [
            "Number of SVs:  3\n",
            "w =  [[-2.00984382  0.64068336]]\n",
            "b =  4.6685606832880815\n"
          ],
          "name": "stdout"
        }
      ]
    },
    {
      "cell_type": "code",
      "metadata": {
        "id": "HBlnLhsD2p_C",
        "colab_type": "code",
        "outputId": "f79da75a-096a-4b9a-af25-d615bd1f7926",
        "colab": {
          "base_uri": "https://localhost:8080/",
          "height": 51
        }
      },
      "source": [
        "from sklearn.svm import SVC\n",
        "\n",
        "model = SVC(kernel = 'linear', C = 1e5)\n",
        "model.fit(X, y)\n",
        "\n",
        "w = model.coef_\n",
        "b = model.intercept_\n",
        "\n",
        "print('w = ', w)\n",
        "print('b = ', b)"
      ],
      "execution_count": 0,
      "outputs": [
        {
          "output_type": "stream",
          "text": [
            "w =  [[-2.00971102  0.64194082]]\n",
            "b =  [4.66595309]\n"
          ],
          "name": "stdout"
        }
      ]
    }
  ]
}