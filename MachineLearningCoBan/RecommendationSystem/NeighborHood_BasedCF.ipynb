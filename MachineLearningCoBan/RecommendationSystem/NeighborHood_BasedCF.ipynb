{
  "nbformat": 4,
  "nbformat_minor": 0,
  "metadata": {
    "colab": {
      "name": "NeighborHood-BasedCF.ipynb",
      "provenance": [],
      "authorship_tag": "ABX9TyOxRz+9ejIG/JZZIzasSNni",
      "include_colab_link": true
    },
    "kernelspec": {
      "name": "python3",
      "display_name": "Python 3"
    }
  },
  "cells": [
    {
      "cell_type": "markdown",
      "metadata": {
        "id": "view-in-github",
        "colab_type": "text"
      },
      "source": [
        "<a href=\"https://colab.research.google.com/github/ndq3004/machine_learning/blob/master/MachineLearningCoBan/RecommendationSystem/NeighborHood_BasedCF.ipynb\" target=\"_parent\"><img src=\"https://colab.research.google.com/assets/colab-badge.svg\" alt=\"Open In Colab\"/></a>"
      ]
    },
    {
      "cell_type": "code",
      "metadata": {
        "id": "qalU7JNbAps4",
        "colab_type": "code",
        "colab": {}
      },
      "source": [
        "\"\"\"\n",
        "user-user CF\n",
        "\"\"\"\n",
        "\n",
        "from __future__ import print_function \n",
        "import pandas as pd \n",
        "import numpy as np\n",
        "from sklearn.metrics.pairwise import cosine_similarity\n",
        "from scipy import sparse \n",
        "class uuCF(object):\n",
        "    def __init__(self, Y_data, k, sim_func = cosine_similarity):\n",
        "        self.Y_data = Y_data # a 2d array of shape (n_users, 3)\n",
        "                     # each row of Y_data has form [user_id, item_id, rating]\n",
        "        self.k         = k # number of neighborhood\n",
        "        self.sim_func  = sim_func # similarity function, default: cosine_similarity\n",
        "        self.Ybar      = None   # normalize data \n",
        "        self.n_users   = int(np.max(self.Y_data[:, 0])) + 1 # number of users\n",
        "        self.n_items   = int(np.max(self.Y_data[:, 1])) + 1 # number of items\n",
        "    \n",
        "    def fit(self):\n",
        "        users = self.Y_data[:, 0] # all users - first col of the Y_data\n",
        "        self.Ybar = self.Y_data.copy()\n",
        "        self.mu = np.zeros((self.n_users,))\n",
        "        for n in range(self.n_users):\n",
        "            # row indices of ratings made by user n\n",
        "            ids = np.where(users == n)[0].astype(np.int32)\n",
        "            item_ids = self.Y_data[ids, 1] # indices of all items rated by user n \n",
        "            ratings = self.Y_data[ids, 2]  # ratings made by user n \n",
        "            self.mu[n] = np.mean(ratings) if ids.size > 0 else 0 # avoid zero division \n",
        "            self.Ybar[ids, 2] = ratings - self.mu[n]\n",
        "            \n",
        "        ## form the rating matrix as a sparse matrix. \n",
        "        self.Ybar = sparse.coo_matrix((self.Ybar[:, 2],\n",
        "            (self.Ybar[:, 1], self.Ybar[:, 0])), (self.n_items, self.n_users)).tocsr()\n",
        "        self.S = self.sim_func(self.Ybar.T, self.Ybar.T)\n",
        "    \n",
        "    def pred(self, u, i):\n",
        "        \"\"\" predict the rating of user u for item i\"\"\"\n",
        "        ids = np.where(self.Y_data[:, 1] == i)[0].astype(np.int32) # find item i \n",
        "        users_rated_i = (self.Y_data[ids, 0]).astype(np.int32) # all users who rated i\n",
        "        sim       = self.S[u, users_rated_i] # similarity of u and users who rated i\n",
        "        nns       = np.argsort(sim)[-self.k:] # most k similar users \n",
        "        nearest_s = sim[nns] # and the corresponding similarities\n",
        "        r         = self.Ybar[i, users_rated_i[nns]] # the corresponding ratings \n",
        "        eps       = 1e-8 # a small number to avoid zero division \n",
        "        return (r*nearest_s).sum()/(np.abs(nearest_s).sum() + eps) + self.mu[u]"
      ],
      "execution_count": 0,
      "outputs": []
    },
    {
      "cell_type": "code",
      "metadata": {
        "id": "5wseFSEJmrZs",
        "colab_type": "code",
        "colab": {
          "base_uri": "https://localhost:8080/",
          "height": 34
        },
        "outputId": "9af83e29-dccd-408b-ed1a-fc6ab0210828"
      },
      "source": [
        "r_cols = ['user_id', 'movie_id', 'rating', 'unix_timestamp']\n",
        "link = '/content/drive/My Drive/Dataset/ml-100k/'\n",
        "ratings_base = pd.read_csv(link + 'ml-100k/ua.base', sep='\\t', names=r_cols)\n",
        "ratings_test = pd.read_csv(link + 'ml-100k/ua.test', sep='\\t', names=r_cols)\n",
        "\n",
        "rate_train = ratings_base.values\n",
        "rate_test = ratings_test.values\n",
        "\n",
        "# indices start from 0\n",
        "rate_train[:, :2] -= 1\n",
        "rate_test[:, :2] -= 1\n",
        "\n",
        "rs = uuCF(rate_train, k = 40)\n",
        "rs.fit()\n",
        "n_tests = rate_test.shape[0]\n",
        "SE = 0 # squared error\n",
        "for n in range(n_tests):\n",
        "  pred = rs.pred(rate_test[n, 0], rate_test[n, 1])\n",
        "  SE += (pred - rate_test[n, 2])**2\n",
        "RMSE = np.sqrt(SE/n_tests)\n",
        "print('User-user CF, RMSE =', RMSE)\n"
      ],
      "execution_count": 41,
      "outputs": [
        {
          "output_type": "stream",
          "text": [
            "User-user CF, RMSE = 0.9766140289287265\n"
          ],
          "name": "stdout"
        }
      ]
    },
    {
      "cell_type": "code",
      "metadata": {
        "id": "OfA_gxAnm4ge",
        "colab_type": "code",
        "colab": {
          "base_uri": "https://localhost:8080/",
          "height": 34
        },
        "outputId": "bb2804d8-d3e4-414d-8874-222143173174"
      },
      "source": [
        "# Load the Drive helper and mount\n",
        "from google.colab import drive\n",
        "\n",
        "# This will prompt for authorization.\n",
        "drive.mount('/content/drive', force_remount=True)"
      ],
      "execution_count": 8,
      "outputs": [
        {
          "output_type": "stream",
          "text": [
            "Mounted at /content/drive\n"
          ],
          "name": "stdout"
        }
      ]
    },
    {
      "cell_type": "code",
      "metadata": {
        "id": "jTaPemNHpmD1",
        "colab_type": "code",
        "colab": {
          "base_uri": "https://localhost:8080/",
          "height": 68
        },
        "outputId": "d2e3c92c-c5f6-4ae3-89cc-6e543499abd8"
      },
      "source": [
        "!ls '/content/drive/My Drive/Dataset/ml-100k/ml-100k'"
      ],
      "execution_count": 14,
      "outputs": [
        {
          "output_type": "stream",
          "text": [
            "allbut.pl  u1.base  u2.test  u4.base  u5.test  ub.base\tu.genre  u.occupation\n",
            "mku.sh\t   u1.test  u3.base  u4.test  ua.base  ub.test\tu.info\t u.user\n",
            "README\t   u2.base  u3.test  u5.base  ua.test  u.data\tu.item\n"
          ],
          "name": "stdout"
        }
      ]
    }
  ]
}