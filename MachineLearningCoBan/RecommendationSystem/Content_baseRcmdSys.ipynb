{
  "nbformat": 4,
  "nbformat_minor": 0,
  "metadata": {
    "colab": {
      "name": "Content-baseRcmdSys.ipynb",
      "provenance": [],
      "collapsed_sections": [],
      "authorship_tag": "ABX9TyNnHp8lV0nvgWyJ17Qgta+l",
      "include_colab_link": true
    },
    "kernelspec": {
      "name": "python3",
      "display_name": "Python 3"
    }
  },
  "cells": [
    {
      "cell_type": "markdown",
      "metadata": {
        "id": "view-in-github",
        "colab_type": "text"
      },
      "source": [
        "<a href=\"https://colab.research.google.com/github/ndq3004/machine_learning/blob/master/MachineLearningCoBan/RecommendationSystem/Content_baseRcmdSys.ipynb\" target=\"_parent\"><img src=\"https://colab.research.google.com/assets/colab-badge.svg\" alt=\"Open In Colab\"/></a>"
      ]
    },
    {
      "cell_type": "code",
      "metadata": {
        "id": "bGwwxOfH2FDx",
        "colab_type": "code",
        "outputId": "ce71b566-028f-465c-d0da-0ff8edb9e707",
        "colab": {
          "base_uri": "https://localhost:8080/",
          "height": 136
        }
      },
      "source": [
        "from __future__ import print_function\n",
        "import numpy as np\n",
        "import pandas as pd\n",
        "\n",
        "link = \"/content/drive/My Drive/Dataset/\"\n",
        "u_cols = ['user_id', 'age', 'sex', 'occupation', 'zip_code']\n",
        "users = pd.read_csv(link + 'ml-100k/u.user', sep='|', names=u_cols)\n",
        "n_users = users.shape[0]\n",
        "print('Number of users:', n_users)\n",
        "#Reading ratings file:\n",
        "r_cols = ['user_id', 'movie_id', 'rating', 'unix_timestamp']\n",
        "ratings_base = pd.read_csv(link + 'ml-100k/ua.base', sep='\\t', names=r_cols)\n",
        "ratings_test = pd.read_csv(link + 'ml-100k/ua.test', sep='\\t', names=r_cols)\n",
        "rate_train = ratings_base.as_matrix()\n",
        "rate_test = ratings_test.as_matrix()\n",
        "print('Number of traing rates:', rate_train.shape[0])\n",
        "print('Number of test rates:', rate_test.shape[0])\n"
      ],
      "execution_count": 4,
      "outputs": [
        {
          "output_type": "stream",
          "text": [
            "Number of users: 943\n",
            "Number of traing rates: 90570\n",
            "Number of test rates: 9430\n"
          ],
          "name": "stdout"
        },
        {
          "output_type": "stream",
          "text": [
            "/usr/local/lib/python3.6/dist-packages/ipykernel_launcher.py:14: FutureWarning: Method .as_matrix will be removed in a future version. Use .values instead.\n",
            "  \n",
            "/usr/local/lib/python3.6/dist-packages/ipykernel_launcher.py:15: FutureWarning: Method .as_matrix will be removed in a future version. Use .values instead.\n",
            "  from ipykernel import kernelapp as app\n"
          ],
          "name": "stderr"
        }
      ]
    },
    {
      "cell_type": "code",
      "metadata": {
        "id": "9S5RRbDo8UwT",
        "colab_type": "code",
        "outputId": "becbb817-0fa5-49f1-a781-4377e272916f",
        "colab": {
          "base_uri": "https://localhost:8080/",
          "height": 68
        }
      },
      "source": [
        "i_cols = ['movie id', 'movie title' ,'release date','video release date', 'IMDb URL',\n",
        "'unknown', 'Action', 'Adventure', 'Animation', 'Children\\'s', 'Comedy', 'Crime', 'Documentary', \n",
        "'Drama', 'Fantasy', 'Film-Noir', 'Horror', 'Musical', 'Mystery', 'Romance', 'Sci-Fi', 'Thriller', 'War', 'Western']\n",
        "\n",
        "items = pd.read_csv(link + 'ml-100k/u.item', sep='|', names=i_cols, encoding='latin-1')\n",
        "n_items = items.shape[0]\n",
        "\n",
        "X0 = items.as_matrix()\n",
        "X_train_counts = X0[:, -19:]\n",
        "\n",
        "print('number of items:', n_items)"
      ],
      "execution_count": 8,
      "outputs": [
        {
          "output_type": "stream",
          "text": [
            "number of items: 1682\n"
          ],
          "name": "stdout"
        },
        {
          "output_type": "stream",
          "text": [
            "/usr/local/lib/python3.6/dist-packages/ipykernel_launcher.py:8: FutureWarning: Method .as_matrix will be removed in a future version. Use .values instead.\n",
            "  \n"
          ],
          "name": "stderr"
        }
      ]
    },
    {
      "cell_type": "code",
      "metadata": {
        "id": "zS0zgNeu6Gsz",
        "colab_type": "code",
        "outputId": "c71c0e89-d3e6-410e-d77a-09103e41597b",
        "colab": {
          "base_uri": "https://localhost:8080/",
          "height": 102
        }
      },
      "source": [
        "print(rate_train[:5, :])"
      ],
      "execution_count": 6,
      "outputs": [
        {
          "output_type": "stream",
          "text": [
            "[[        1         1         5 874965758]\n",
            " [        1         2         3 876893171]\n",
            " [        1         3         4 878542960]\n",
            " [        1         4         3 876893119]\n",
            " [        1         5         3 889751712]]\n"
          ],
          "name": "stdout"
        }
      ]
    },
    {
      "cell_type": "code",
      "metadata": {
        "id": "N63S-gsL_X-r",
        "colab_type": "code",
        "colab": {}
      },
      "source": [
        "from sklearn.feature_extraction.text import TfidfTransformer\n",
        "transformer = TfidfTransformer(smooth_idf=True, norm ='l2')\n",
        "X = transformer.fit_transform(X_train_counts.tolist()).toarray()\n"
      ],
      "execution_count": 0,
      "outputs": []
    },
    {
      "cell_type": "code",
      "metadata": {
        "id": "ue8F2I0L_exp",
        "colab_type": "code",
        "colab": {}
      },
      "source": [
        "def get_items_rated_by_user(rate_matrix, user_id):\n",
        "  \"\"\"\n",
        "  return (item_ids, scores)\n",
        "  \"\"\"\n",
        "  y = rate_matrix[:,0] # all users\n",
        "  # item indices rated by user_id\n",
        "  # we need to +1 to user_id since in the rate_matrix, id starts from 1\n",
        "  # but id in python starts from 0\n",
        "  ids = np.where(y == user_id +1)[0]\n",
        "  item_ids = rate_matrix[ids, 1] - 1 # index starts from 0\n",
        "  scores = rate_matrix[ids, 2]\n",
        "  return (item_ids, scores)"
      ],
      "execution_count": 0,
      "outputs": []
    },
    {
      "cell_type": "code",
      "metadata": {
        "id": "qv-xUFJnBBc0",
        "colab_type": "code",
        "outputId": "6578f7c8-e4e9-40d2-f105-90fb76e2cc93",
        "colab": {
          "base_uri": "https://localhost:8080/",
          "height": 68
        }
      },
      "source": [
        "from sklearn.linear_model import Ridge\n",
        "from sklearn import linear_model\n",
        "d = X.shape[1] # data dimension\n",
        "W = np.zeros((d, n_users))\n",
        "b = np.zeros(n_users)\n",
        "for n in range(n_users):\n",
        "  ids, scores = get_items_rated_by_user(rate_train, n)\n",
        "  model = Ridge(alpha=0.01, fit_intercept = True)\n",
        "  Xhat = X[ids, :]\n",
        "  model.fit(Xhat, scores)\n",
        "  W[:, n] = model.coef_\n",
        "  b[n] = model.intercept_\n",
        "\n",
        "Yhat = X.dot(W) + b\n",
        "\n",
        "n = 10\n",
        "np.set_printoptions(precision=2) # 2 digits after .\n",
        "ids, scores = get_items_rated_by_user(rate_test, n)\n",
        "print('Rated movies ids :', ids )\n",
        "print('True ratings :', scores)\n",
        "print('Predicted ratings:', Yhat[ids, n])\n"
      ],
      "execution_count": 11,
      "outputs": [
        {
          "output_type": "stream",
          "text": [
            "Rated movies ids : [ 37 109 110 226 424 557 722 724 731 739]\n",
            "True ratings : [3 3 4 3 4 3 5 3 3 4]\n",
            "Predicted ratings: [3.18 3.13 3.42 3.09 3.35 5.2  4.01 3.35 3.42 3.72]\n"
          ],
          "name": "stdout"
        }
      ]
    },
    {
      "cell_type": "code",
      "metadata": {
        "id": "670_rT53SD0v",
        "colab_type": "code",
        "colab": {}
      },
      "source": [
        ""
      ],
      "execution_count": 0,
      "outputs": []
    },
    {
      "cell_type": "code",
      "metadata": {
        "id": "wCmfr7iZDduP",
        "colab_type": "code",
        "outputId": "a70b82f5-c821-437b-e4f8-4cb571a7c006",
        "colab": {
          "base_uri": "https://localhost:8080/",
          "height": 51
        }
      },
      "source": [
        "def evaluate(Yhat, rates, W, b):\n",
        "  se = cnt = 0\n",
        "  for n in range(n_users):\n",
        "    ids, scores_truth = get_items_rated_by_user( rates, n)\n",
        "    scores_pred = Yhat[ids, n]\n",
        "    e = scores_truth - scores_pred\n",
        "    se += (e*e).sum(axis = 0)\n",
        "    cnt += e.size\n",
        "  return np.sqrt(se/cnt)\n",
        "print('RMSE for training: %.2f' %evaluate(Yhat, rate_train, W, b))\n",
        "print('RMSE for test : %.2f' %evaluate(Yhat, rate_test, W, b))\n"
      ],
      "execution_count": 12,
      "outputs": [
        {
          "output_type": "stream",
          "text": [
            "RMSE for training: 0.91\n",
            "RMSE for test : 1.27\n"
          ],
          "name": "stdout"
        }
      ]
    },
    {
      "cell_type": "code",
      "metadata": {
        "id": "6D3fBtOX4JaU",
        "colab_type": "code",
        "outputId": "7ff81999-9674-4e16-a033-c8b8fd8bbac3",
        "colab": {
          "base_uri": "https://localhost:8080/",
          "height": 122
        }
      },
      "source": [
        "# Load the Drive helper and mount\n",
        "from google.colab import drive\n",
        "\n",
        "# This will prompt for authorization.\n",
        "drive.mount('/content/drive', force_remount=True)"
      ],
      "execution_count": 2,
      "outputs": [
        {
          "output_type": "stream",
          "text": [
            "Go to this URL in a browser: https://accounts.google.com/o/oauth2/auth?client_id=947318989803-6bn6qk8qdgf4n4g3pfee6491hc0brc4i.apps.googleusercontent.com&redirect_uri=urn%3aietf%3awg%3aoauth%3a2.0%3aoob&response_type=code&scope=email%20https%3a%2f%2fwww.googleapis.com%2fauth%2fdocs.test%20https%3a%2f%2fwww.googleapis.com%2fauth%2fdrive%20https%3a%2f%2fwww.googleapis.com%2fauth%2fdrive.photos.readonly%20https%3a%2f%2fwww.googleapis.com%2fauth%2fpeopleapi.readonly\n",
            "\n",
            "Enter your authorization code:\n",
            "··········\n",
            "Mounted at /content/drive\n"
          ],
          "name": "stdout"
        }
      ]
    },
    {
      "cell_type": "code",
      "metadata": {
        "id": "PHHt2U3v4XoY",
        "colab_type": "code",
        "outputId": "1332ccb5-8eb0-4c1f-ca52-0b9f5c2277ab",
        "colab": {
          "base_uri": "https://localhost:8080/",
          "height": 68
        }
      },
      "source": [
        "!ls \"/content/drive/My Drive/Dataset/ml-100k\""
      ],
      "execution_count": 3,
      "outputs": [
        {
          "output_type": "stream",
          "text": [
            "allbut.pl  u1.base  u2.test  u4.base  u5.test  ub.base\tu.genre  u.occupation\n",
            "mku.sh\t   u1.test  u3.base  u4.test  ua.base  ub.test\tu.info\t u.user\n",
            "README\t   u2.base  u3.test  u5.base  ua.test  u.data\tu.item\n"
          ],
          "name": "stdout"
        }
      ]
    }
  ]
}