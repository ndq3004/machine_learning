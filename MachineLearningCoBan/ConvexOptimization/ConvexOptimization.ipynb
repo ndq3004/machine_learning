{
  "nbformat": 4,
  "nbformat_minor": 0,
  "metadata": {
    "colab": {
      "name": "ConvexOptimization.ipynb",
      "provenance": [],
      "authorship_tag": "ABX9TyN9K4ain7ilZ8RHdsTxgTb/",
      "include_colab_link": true
    },
    "kernelspec": {
      "name": "python3",
      "display_name": "Python 3"
    }
  },
  "cells": [
    {
      "cell_type": "markdown",
      "metadata": {
        "id": "view-in-github",
        "colab_type": "text"
      },
      "source": [
        "<a href=\"https://colab.research.google.com/github/ndq3004/machine_learning/blob/master/MachineLearningCoBan/ConvexOptimization/ConvexOptimization.ipynb\" target=\"_parent\"><img src=\"https://colab.research.google.com/assets/colab-badge.svg\" alt=\"Open In Colab\"/></a>"
      ]
    },
    {
      "cell_type": "code",
      "metadata": {
        "id": "8HDRibcq5A9F",
        "colab_type": "code",
        "outputId": "12456513-ff49-45bb-c5e3-26ce911cf89e",
        "colab": {
          "base_uri": "https://localhost:8080/",
          "height": 34
        }
      },
      "source": [
        "\"\"\"\n",
        "Trong phần này chúng ta sẽ giải một số bài toán tối ưu lồi \n",
        "bằng cách sử dụng thư viện CVXOPT(Thư viện miễn phí giải các bài toán tối ưu lồi)\n",
        "\"\"\""
      ],
      "execution_count": 0,
      "outputs": [
        {
          "output_type": "execute_result",
          "data": {
            "text/plain": [
              "'\\nTrong phần này chúng ta sẽ giải một số bài toán tối ưu lồi \\nbằng cách sử dụng thư viện CVXOPT(Thư viện miễn phí giải các bài toán tối ưu lồi)\\n'"
            ]
          },
          "metadata": {
            "tags": []
          },
          "execution_count": 1
        }
      ]
    },
    {
      "cell_type": "code",
      "metadata": {
        "id": "_SGeCfsq52Ii",
        "colab_type": "code",
        "outputId": "dfea8ab6-6e00-48b9-af96-c9ac0f8859ad",
        "colab": {
          "base_uri": "https://localhost:8080/",
          "height": 85
        }
      },
      "source": [
        "\"\"\"\n",
        "Linear programming\n",
        "1. Bài toán canh tác\n",
        "\"\"\"\n",
        "from cvxopt import matrix, solvers\n",
        "c = matrix([-5., -3.]) #objective function (cvxopt find min of c)\n",
        "G = matrix([[1., 2., 1., -1., 0.], [1., 1., 4., 0., -1.]])\n",
        "h = matrix([10., 16., 32., 0., 0.])\n",
        "\n",
        "solvers.options['show_progress'] = False\n",
        "sol = solvers.lp(c, G, h)\n",
        "\n",
        "print(\"Solution:\")\n",
        "print(sol['x'])"
      ],
      "execution_count": 0,
      "outputs": [
        {
          "output_type": "stream",
          "text": [
            "Solution:\n",
            "[ 6.00e+00]\n",
            "[ 4.00e+00]\n",
            "\n"
          ],
          "name": "stdout"
        }
      ]
    },
    {
      "cell_type": "code",
      "metadata": {
        "id": "2ZrTHX039HbU",
        "colab_type": "code",
        "outputId": "ce68ed63-08fa-4a78-eb07-d628b34f436f",
        "colab": {
          "base_uri": "https://localhost:8080/",
          "height": 85
        }
      },
      "source": [
        "\"\"\"\n",
        "Quadratic programming\n",
        "2. Bài toán Quadratic programming\n",
        "\"\"\"\n",
        "P = matrix([[1., 0.], [0., 1.]])\n",
        "q = matrix([-10., -10.])\n",
        "G = matrix([[1., 2., 1., -1., 0.], [1., 1., 4., 0., -1.]])\n",
        "h = matrix([10., 16., 32., 0., 0.])\n",
        "\n",
        "solvers.options['show_progress'] = False\n",
        "sol = solvers.qp(P, q, G, h)\n",
        "\n",
        "print(\"Solution: \")\n",
        "print(sol['x'])"
      ],
      "execution_count": 0,
      "outputs": [
        {
          "output_type": "stream",
          "text": [
            "Solution: \n",
            "[ 5.00e+00]\n",
            "[ 5.00e+00]\n",
            "\n"
          ],
          "name": "stdout"
        }
      ]
    },
    {
      "cell_type": "code",
      "metadata": {
        "id": "PkShbJA8VUf1",
        "colab_type": "code",
        "colab": {
          "base_uri": "https://localhost:8080/",
          "height": 340
        },
        "outputId": "a47b248a-41c8-4042-c713-36c6fc6b76b6"
      },
      "source": [
        "\"\"\"\n",
        "Geometric programming\n",
        "\n",
        "\"\"\"\n",
        "from cvxopt import matrix, solvers \n",
        "from math import log, exp #gp\n",
        "from numpy import array\n",
        "import numpy as np\n",
        "\n",
        "K = [4] #number of monomials \n",
        "F = matrix([[-1., 1., 1., 0.],\n",
        "            [-1., 1., 0., 1.],\n",
        "            [-1., 0., 1., 1.]])\n",
        "g = matrix([log(40.), log(2.), log(2.), log(2.)])\n",
        "solvers.options['show_progress'] = True\n",
        "sol = solvers.gp(K, F, g)\n",
        "\n",
        "print('Solution: ')\n",
        "print(np.exp(np.array(sol['x'])))\n",
        "\n",
        "print('\\nChecking sol^5')\n",
        "print(np.exp(np.array(sol['x']))**5)"
      ],
      "execution_count": 4,
      "outputs": [
        {
          "output_type": "stream",
          "text": [
            "     pcost       dcost       gap    pres   dres\n",
            " 0:  0.0000e+00  3.8286e+00  1e+00  1e+00  1e+00\n",
            " 1:  1.8658e+00  3.5361e+00  1e-02  3e-01  6e-01\n",
            " 2:  2.5235e+00  3.5029e+00  1e-04  2e-01  8e-01\n",
            " 3:  2.8305e+00  3.2386e+00  1e-06  8e-02  2e-01\n",
            " 4:  3.2037e+00  3.2237e+00  1e-08  4e-03  9e-03\n",
            " 5:  3.2234e+00  3.2236e+00  1e-10  5e-05  1e-04\n",
            " 6:  3.2236e+00  3.2236e+00  1e-12  5e-07  1e-06\n",
            " 7:  3.2236e+00  3.2236e+00  1e-14  5e-09  1e-08\n",
            "Optimal solution found.\n",
            "Solution: \n",
            "[[1.58489319]\n",
            " [1.58489319]\n",
            " [1.58489319]]\n",
            "\n",
            "Checking sol^5\n",
            "[[9.9999998]\n",
            " [9.9999998]\n",
            " [9.9999998]]\n"
          ],
          "name": "stdout"
        }
      ]
    }
  ]
}